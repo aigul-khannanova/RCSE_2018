{
 "cells": [
  {
   "cell_type": "markdown",
   "metadata": {},
   "source": [
    "## Modular Division\n",
    "\n",
    "In real arithmetic, every number a != 0 has an inverse a^-1: a x a^-1 = 1.  \n",
    "In modular arithmetic, we can make a similar definition.  \n",
    "We say $x$ is the multiplicative inverse of a *modulo* m if ax = 1 (mod m).\n",
    "\n",
    "**Inverse doesn't always exist!**\n",
    "\n",
    "### Theorem: Modular division theorem. ###\n",
    "For any x"
   ]
  },
  {
   "cell_type": "markdown",
   "metadata": {},
   "source": [
    "# Lecture 3. RSA system, Divide and Conquer Scheme"
   ]
  },
  {
   "cell_type": "markdown",
   "metadata": {},
   "source": [
    "$Cryptography$- is an indispersible tool for data protection"
   ]
  },
  {
   "cell_type": "markdown",
   "metadata": {},
   "source": [
    "- A cryptosystem is pair of algorithms that take a key and convert plaintext to cipher text and back.  \n",
    "- Plaintext is what you want to protect.  \n",
    "- The design and analysis of today's crypto algos is higly mathematic."
   ]
  },
  {
   "cell_type": "markdown",
   "metadata": {},
   "source": [
    "    Choose two different large random prime numbers $p {\\displaystyle p\\,}$ {\\displaystyle p\\,}$ and q {\\displaystyle q\\,} {\\displaystyle q\\,}\n",
    "    Calculate n = p q {\\displaystyle n=pq\\,} {\\displaystyle n=pq\\,}\n",
    "        n {\\displaystyle n\\,} {\\displaystyle n\\,} is the modulus for the public key and the private keys\n",
    "    Calculate the totient: ϕ ( n ) = ( p − 1 ) ( q − 1 ) {\\displaystyle \\phi (n)=(p-1)(q-1)\\,} {\\displaystyle \\phi (n)=(p-1)(q-1)\\,}.\n",
    "    Choose an integer e {\\displaystyle e\\,} {\\displaystyle e\\,} such that 1 < e {\\displaystyle e\\,} {\\displaystyle e\\,} < ϕ ( n ) {\\displaystyle \\phi (n)\\,} {\\displaystyle \\phi (n)\\,}, and e {\\displaystyle e\\,} {\\displaystyle e\\,} is coprime to ϕ ( n ) {\\displaystyle \\phi (n)\\,} {\\displaystyle \\phi (n)\\,} ie: e {\\displaystyle e\\,} {\\displaystyle e\\,} and ϕ ( n ) {\\displaystyle \\phi (n)\\,} {\\displaystyle \\phi (n)\\,} share no factors other than 1; gcd( e {\\displaystyle e\\,} {\\displaystyle e\\,}, ϕ ( n ) {\\displaystyle \\phi (n)\\,} {\\displaystyle \\phi (n)\\,}) = 1.\n",
    "        e {\\displaystyle e\\,} {\\displaystyle e\\,} is released as the public key exponent\n",
    "    Compute d {\\displaystyle d\\,} {\\displaystyle d\\,} to satisfy the congruence relation d e ≡ 1 ( mod ϕ ( n ) ) {\\displaystyle de\\equiv 1{\\pmod {\\phi (n)}}\\,} {\\displaystyle de\\equiv 1{\\pmod {\\phi (n)}}\\,} ie: d e = 1 + k ϕ ( n ) {\\displaystyle de=1+k\\phi (n)\\,} {\\displaystyle de=1+k\\phi (n)\\,} for some integer k {\\displaystyle k\\,} {\\displaystyle k\\,}. (Simply to say : Calculate d = ( 1 + k ϕ ( n ) ) / e {\\displaystyle d=(1+k\\phi (n))/e\\,} {\\displaystyle d=(1+k\\phi (n))/e\\,})\n",
    "        d {\\displaystyle d\\,} {\\displaystyle d\\,} is kept as the private key exponent"
   ]
  },
  {
   "cell_type": "markdown",
   "metadata": {},
   "source": [
    "# Practice 1\n",
    "\n",
    "2)\n",
    "    1. The sum of a rational and an irrational number is irrational"
   ]
  }
 ],
 "metadata": {
  "kernelspec": {
   "display_name": "Python 3",
   "language": "python",
   "name": "python3"
  },
  "language_info": {
   "codemirror_mode": {
    "name": "ipython",
    "version": 3
   },
   "file_extension": ".py",
   "mimetype": "text/x-python",
   "name": "python",
   "nbconvert_exporter": "python",
   "pygments_lexer": "ipython3",
   "version": "3.6.5"
  }
 },
 "nbformat": 4,
 "nbformat_minor": 2
}
