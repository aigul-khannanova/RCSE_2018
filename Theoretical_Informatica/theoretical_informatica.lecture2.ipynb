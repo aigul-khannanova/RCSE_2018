{
 "cells": [
  {
   "cell_type": "markdown",
   "metadata": {},
   "source": [
    "# Complexity of an algorithm"
   ]
  },
  {
   "cell_type": "markdown",
   "metadata": {},
   "source": [
    "An algorithm A to perform a calculation on integer numbers is said to be a polynomical tim algorithm, or simply a polynomial algorithm, if  there is a positive integer d, called the order of the algorithm, such that hte number of the operations required to execute the algorithm on integers"
   ]
  },
  {
   "cell_type": "markdown",
   "metadata": {},
   "source": [
    "## Classes of functions\n",
    "\n",
    "- O(1)\n",
    "- O(log(n))\n",
    "- O(nlog(n))\n",
    "- O(n)\n",
    "- O(n^2)\n",
    "etc"
   ]
  },
  {
   "cell_type": "markdown",
   "metadata": {},
   "source": [
    "## o-notation\n",
    "Informally, f(x) = o(g(x))) means that f grows much slower than g and is insignificant in comparison.\n",
    "\n",
    "Formally, we write f(x) = o(g(x)) (for x -> inf.) if and only if for every C >0 there exists a real number N such that for all x>N we have |f(x)| < C |g(x)|  \n",
    "if g(x) if g(x) !=0, this is equivalent to lim(f(x)/g(x)=0, x->inf.\n",
    "\n",
    "https://stackoverflow.com/questions/1364444/difference-between-big-o-and-little-o-notation#1364491"
   ]
  },
  {
   "cell_type": "markdown",
   "metadata": {},
   "source": [
    "## Modular arithmetics\n",
    "\n",
    "when 7 is divied by 3 it leaves a remainder of 1. Instead of writing 7 = 3x2 + 1, where 1 is the integer remained we will write: 7 mod 3 = 1, which reads as: \"*7 modulo 3 is 1*\" and 3 is called the \"*modulus*\"\n",
    "\n",
    "### Mod multiplication\n",
    "\n",
    "1. a + b mod m = (a mod m) + (b mod m)\n",
    "2. a - b mod m = (a mod m) - (b mod m)\n",
    "3. a * b mod m = (a mod m) * (b mod m)\n",
    "\n",
    "### Fast exponentiation\n",
    "\n",
    "It's necessary for cryptosystems.\n",
    "\n",
    "a^2 = (a)^2 mod m  \n",
    "(a^2)^3 = ((a^2)^2)^2 mod m  \n",
    "(a^2)^5 = ((a^4)^4)^2 mod m\n",
    "\n",
    "IF n is a power of 2, say n = 2*k, there is a much faster way: simply square a, k times. for example, we can compute a^128 = (a^2)^7"
   ]
  },
  {
   "cell_type": "markdown",
   "metadata": {},
   "source": [
    "\\begin{align}\n",
    "\\dot{x} & = \\sigma(y-x) \\\\\n",
    "\\dot{y} & = \\rho x - y - xz \\\\\n",
    "\\dot{z} & = -\\beta z + xy\n",
    "\\end{align}"
   ]
  },
  {
   "attachments": {},
   "cell_type": "markdown",
   "metadata": {},
   "source": [
    "### Sieving method\n",
    "1. Theorem. **The list of primes is infinite?**  \n",
    "Def. A positive integer grater than 1 that is not prime is called composite.  \n",
    "Ex. The integers 4 = 2x2, 8 = 4x2, 33 = 3x11, 111 = 3x37, 1001 = 7x11x13 are composite\n",
    "\n",
    "http://mathemlib.ru/books/item/f00/s00/z0000003/st056.shtml\n"
   ]
  },
  {
   "cell_type": "markdown",
   "metadata": {},
   "source": [
    "2. Theorem. ** Fundamental theorem of Arithmetic **  \n",
    "Let $n$ be an integer greater then 1.  \n",
    "Then $$ \\mathbf{n}=\\mathbf{p_1^\\mathbf{h_1}}\\mathbf{p_2^\\mathbf{h_2}}...\\mathbf{p_s^\\mathbf{h_s}} $$"
   ]
  },
  {
   "cell_type": "markdown",
   "metadata": {},
   "source": [
    "where $ p_1, p_2, ..., p_s $ are distinct prime numbers and the exponents $h_j$ are positive, for all $j = 1,...,s$. Moreover, this representation for $n$, called prime decomposition or factirization of $n$, is unique up to the order of the factors."
   ]
  },
  {
   "cell_type": "markdown",
   "metadata": {},
   "source": [
    "### Generating Primes\n",
    "1. Prime sleves\n",
    "2. Sieve of Eratosthenes\n",
    "3. The sieve of Sundaram\n",
    "4. Sieve of Atkin\n",
    "\n",
    "To generate LARGE PRIMES:\n",
    "1. Take preselected random number of the desired length.\n",
    "2. Apply a Fermat test (best with the base 2 as it can be optimized for speed).\n",
    "3. Apply a certain number of Miller-Rabin tests to get a number which is very probably a prime number."
   ]
  },
  {
   "attachments": {
    "image.png": {
     "image/png": "[encoded data removed]"
    }
   },
   "cell_type": "markdown",
   "metadata": {},
   "source": [
    "## Divisor\n",
    "\n",
    "**Def**. a number $a$ is said to be divisible by a number $b != 0$ and we denote this by $ b|a$ if the remainder of the division $a/b != 0$.  \n",
    "In other words, $a$ is divisible by $b$ if there exists an integer $m$ such that $ a = bm$, that is if $a$ is an integer multiple of $b$.\n",
    "\n",
    "![image.png](attachment:image.png)\n",
    "\n",
    "Each integer $a$ has, among its divisors, 1, -1 $a$ and $-a$. These are said to be the *trivial divisors* of $a$. The number $a$ and $-a$, which only differ by the sign, are said to be *associated* with $a$."
   ]
  },
  {
   "cell_type": "markdown",
   "metadata": {},
   "source": [
    "## Greatest Common divisor\n",
    "\n",
    "**Lemma**. Let $a$ and $b$ be non zero integers. We have $a|b$ and $b|a$ if and only if $a$ and $b$ are associated, that is either $a=b$ or $a=-b$ holds.  \n",
    "**Def**. If $a$, $b$ $\\subseteq{Z}$; then $d$ is a common divisor of $a$ and $b$ if $d$ is a divisor of both $a$ and $b$.\n",
    "\n",
    "\n",
    "\n",
    "\n",
    "\n",
    "Assume $C(a,b)$ is the set of all common divisors of $a$ and $b$.  \n",
    "Exm. **C(18,30) = {-1, 1, -2, 2, -3, 3, -6, 6}**.   \n",
    "**Def**: If $a$, $b$ $\\subseteq{Z}$; then $d$ is the greatest common divisor $gcd(a,b) = d$ of $a$ and $b$ if $d$ is a common divisor of $a$ and $b$, and $\\mathbf{b^\\mathbf{'}}=<\\mathbf{d}$ for all common divisors $d^\\mathbf{'}$ of $a$ and $b$.\n",
    "\n",
    "\n",
    "We have: $gcd(a,b) = gcd(b,a), gcd(a,b) = gcd(|a|,|b|)$.  \n",
    "**Lemma**. If $a!=0$ or $b!=0$, then $gcd(a,b)$ exists and satisfies $0 < gcd(a,b) <= min(|a|,|b|)$."
   ]
  },
  {
   "cell_type": "markdown",
   "metadata": {},
   "source": [
    "### Euclidean algorithm\n",
    "\n",
    "987 and 434\n",
    "\n",
    "987 = 232 x 2 +119\n",
    "434 = 119 X 3 + 77\n",
    "119 = 77 X 1 + 42\n",
    "77 = 42 X 1 + 35\n",
    "42 = 35 x 1 + 7\n",
    "35 = 7 X 5 + 0\n",
    "\n",
    "gcd(987,434) = 7\n"
   ]
  },
  {
   "cell_type": "code",
   "execution_count": null,
   "metadata": {},
   "outputs": [],
   "source": [
    "# Extended euclidean algorithm\n",
    "import numpy as np\n",
    "\n",
    "def gdc(a,b):\n",
    "    remainder = a % b\n",
    "    while remainder !=0:\n",
    "        ceil_part = a // b\n",
    "        remainder = a % b\n",
    "        b = remainder\n"
   ]
  },
  {
   "cell_type": "markdown",
   "metadata": {},
   "source": [
    "## Congruence"
   ]
  },
  {
   "cell_type": "markdown",
   "metadata": {},
   "source": [
    "## Chienese Remainder Theorem\n",
    "\n",
    "if *x = y mod p* and *x = y mod q* with *p* and *q* coprime then *x = y mod pq*"
   ]
  }
 ],
 "metadata": {
  "kernelspec": {
   "display_name": "Python 3",
   "language": "python",
   "name": "python3"
  },
  "language_info": {
   "codemirror_mode": {
    "name": "ipython",
    "version": 3
   },
   "file_extension": ".py",
   "mimetype": "text/x-python",
   "name": "python",
   "nbconvert_exporter": "python",
   "pygments_lexer": "ipython3",
   "version": "3.6.5"
  }
 },
 "nbformat": 4,
 "nbformat_minor": 2
}
